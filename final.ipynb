{
 "cells": [
  {
   "cell_type": "code",
   "execution_count": 1,
   "id": "5d2025f5-7c68-401c-816d-d41aaf313cbc",
   "metadata": {},
   "outputs": [],
   "source": [
    "import numpy as np\n",
    "import pandas as pd\n",
    "import matplotlib.pyplot as plt\n",
    "import seaborn as sns\n",
    "\n",
    "%matplotlib inline"
   ]
  },
  {
   "cell_type": "code",
   "execution_count": 2,
   "id": "e7b32580-c54a-4b75-be73-6eff64f039ff",
   "metadata": {},
   "outputs": [],
   "source": [
    "train = pd.read_csv('training_set_features.csv')\n",
    "test = pd.read_csv('training_set_labels.csv')\n",
    "\n",
    "train = train.drop(columns=['rent_or_own', 'employment_occupation', 'employment_industry', 'health_insurance'])"
   ]
  },
  {
   "cell_type": "code",
   "execution_count": 3,
   "id": "320bf148-e7c5-4b98-9c08-afd5f3bfc19a",
   "metadata": {},
   "outputs": [
    {
     "data": {
      "text/plain": [
       "['age_group',\n",
       " 'education',\n",
       " 'race',\n",
       " 'sex',\n",
       " 'income_poverty',\n",
       " 'marital_status',\n",
       " 'employment_status',\n",
       " 'hhs_geo_region',\n",
       " 'census_msa']"
      ]
     },
     "execution_count": 3,
     "metadata": {},
     "output_type": "execute_result"
    }
   ],
   "source": [
    "[i for i in train.columns if train[i].dtype == 'object']"
   ]
  },
  {
   "cell_type": "code",
   "execution_count": 4,
   "id": "1ad37117-4ffd-4222-b346-c47069755f8f",
   "metadata": {},
   "outputs": [
    {
     "data": {
      "text/plain": [
       "respondent_id                    int64\n",
       "xyz_concern                    float64\n",
       "xyz_knowledge                  float64\n",
       "behavioral_antiviral_meds      float64\n",
       "behavioral_avoidance           float64\n",
       "behavioral_face_mask           float64\n",
       "behavioral_wash_hands          float64\n",
       "behavioral_large_gatherings    float64\n",
       "behavioral_outside_home        float64\n",
       "behavioral_touch_face          float64\n",
       "doctor_recc_xyz                float64\n",
       "doctor_recc_seasonal           float64\n",
       "chronic_med_condition          float64\n",
       "child_under_6_months           float64\n",
       "health_worker                  float64\n",
       "opinion_xyz_vacc_effective     float64\n",
       "opinion_xyz_risk               float64\n",
       "opinion_xyz_sick_from_vacc     float64\n",
       "opinion_seas_vacc_effective    float64\n",
       "opinion_seas_risk              float64\n",
       "opinion_seas_sick_from_vacc    float64\n",
       "age_group                       object\n",
       "education                       object\n",
       "race                            object\n",
       "sex                             object\n",
       "income_poverty                  object\n",
       "marital_status                  object\n",
       "employment_status               object\n",
       "hhs_geo_region                  object\n",
       "census_msa                      object\n",
       "household_adults               float64\n",
       "household_children             float64\n",
       "dtype: object"
      ]
     },
     "execution_count": 4,
     "metadata": {},
     "output_type": "execute_result"
    }
   ],
   "source": [
    "train.dtypes"
   ]
  },
  {
   "cell_type": "code",
   "execution_count": 5,
   "id": "f1b85b19-e139-4411-9480-0a721bf3918b",
   "metadata": {},
   "outputs": [
    {
     "name": "stderr",
     "output_type": "stream",
     "text": [
      "C:\\Users\\dell\\AppData\\Local\\Temp\\ipykernel_39772\\680447775.py:6: FutureWarning: Downcasting behavior in `replace` is deprecated and will be removed in a future version. To retain the old behavior, explicitly call `result.infer_objects(copy=False)`. To opt-in to the future behavior, set `pd.set_option('future.no_silent_downcasting', True)`\n",
      "  train = train.replace(cleanup)\n"
     ]
    }
   ],
   "source": [
    "cleanup = { \n",
    "                \"age_group\": {\"18 - 34 Years\": 0, \"35 - 44 Years\": 1, \"45 - 54 Years\" : 2, \"55 - 64 Years\" : 3, \"65+ Years\" : 4},\n",
    "                \"income_poverty\" : {'Below Poverty' : 0, '<= $75,000, Above Poverty' : 1, '> $75,000' : 2},\n",
    "                \"education\" : {'< 12 Years' : 0, '12 Years' : 1, 'College Graduate' : 2, 'Some College' : 3}\n",
    "}\n",
    "train = train.replace(cleanup)"
   ]
  },
  {
   "cell_type": "code",
   "execution_count": 6,
   "id": "bdc30a3c-8f4a-48e5-a1f3-649589e7474e",
   "metadata": {},
   "outputs": [],
   "source": [
    "from sklearn.preprocessing import LabelEncoder\n",
    "from sklearn.impute import SimpleImputer\n",
    "\n",
    "from sklearn.impute import KNNImputer\n",
    "\n",
    "from sklearn.experimental import enable_iterative_imputer\n",
    "from sklearn.impute import IterativeImputer\n",
    "\n",
    "cat_cols = ['opinion_xyz_vacc_effective', 'opinion_xyz_risk',\n",
    "            'opinion_xyz_sick_from_vacc', 'opinion_seas_vacc_effective',\n",
    "            'opinion_seas_risk', 'opinion_seas_sick_from_vacc']\n",
    "\n",
    "imp = SimpleImputer(strategy='most_frequent')\n",
    "for name, group in train.groupby(['census_msa', 'hhs_geo_region']):\n",
    "    mask = (train['census_msa'] == name[0]) & (train['hhs_geo_region'] == name[1])\n",
    "    train.loc[mask, cat_cols] = imp.fit_transform(group[cat_cols])\n",
    "\n",
    "cat_cols = ['behavioral_antiviral_meds', 'behavioral_avoidance', 'behavioral_wash_hands',\n",
    "       'behavioral_large_gatherings', 'behavioral_outside_home']\n",
    "\n",
    "for name, group in train.groupby(['age_group', 'race', 'sex', 'census_msa', 'hhs_geo_region']):\n",
    "    mask =  (train['age_group'] == name[0]) & (train['race'] == name[1]) &(train['sex'] == name[2])& (train['census_msa'] == name[3]) & (train['hhs_geo_region'] == name[4])\n",
    "    \n",
    "    train.loc[mask, cat_cols] = imp.fit_transform(group[cat_cols])\n",
    "\n",
    "cat_cols = ['chronic_med_condition', 'education']\n",
    "for name, group in train.groupby(['age_group', 'sex', 'census_msa', 'hhs_geo_region']):\n",
    "    mask =  (train['age_group'] == name[0]) & (train['sex'] == name[1])& (train['census_msa'] == name[2]) & (train['hhs_geo_region'] == name[3])\n",
    "    train.loc[mask, cat_cols] = imp.fit_transform(group[cat_cols])"
   ]
  },
  {
   "cell_type": "code",
   "execution_count": 7,
   "id": "433ae88f-cf7d-4c73-862e-38a786c58bef",
   "metadata": {},
   "outputs": [],
   "source": [
    "imp1 = SimpleImputer(strategy='median')\n",
    "\n",
    "num_cols = ['household_adults', 'household_children']\n",
    "for name, group in train.groupby(['race', 'census_msa', 'hhs_geo_region']):\n",
    "    mask = (train['race'] == name[0]) & (train['census_msa'] == name[1]) & (train['hhs_geo_region'] == name[2])\n",
    "    train.loc[mask, num_cols] = imp1.fit_transform(group[num_cols])"
   ]
  },
  {
   "cell_type": "code",
   "execution_count": null,
   "id": "2edb788d-2e4b-4d03-afdf-8363afecdaba",
   "metadata": {},
   "outputs": [],
   "source": []
  },
  {
   "cell_type": "code",
   "execution_count": 8,
   "id": "4f55289e-2874-484c-996d-89eb5d2d0e25",
   "metadata": {},
   "outputs": [],
   "source": [
    "import math\n",
    "cat_cols = ['xyz_concern', 'xyz_knowledge']\n",
    "\n",
    "for name, group in train.groupby(['census_msa', 'hhs_geo_region']):\n",
    "    mask = (train['census_msa'] == name[0]) & (train['hhs_geo_region'] == name[1])\n",
    "    train.loc[mask, cat_cols] = imp.fit_transform(group[cat_cols])\n",
    "\n",
    "cat_cols = ['marital_status', 'employment_status', 'income_poverty']\n",
    "\n",
    "for name, group in train.groupby(['sex', 'race', 'age_group']):\n",
    "    mask = (train['sex'] == name[0]) & (train['race'] == name[1]) & (train['age_group'] == name[2])\n",
    "    train.loc[mask, cat_cols] = imp.fit_transform(group[cat_cols])\n",
    "\n",
    "cat_cols = ['doctor_recc_seasonal', 'doctor_recc_xyz']\n",
    "\n",
    "for name, group in train.groupby(['age_group', 'chronic_med_condition']):\n",
    "    mask = (train['age_group'] == name[0]) & (train['chronic_med_condition'] == name[1])\n",
    "    train.loc[mask, cat_cols] = imp.fit_transform(group[cat_cols])\n",
    "\n",
    "\n",
    "def f1(cols):\n",
    "    b = cols.iloc[0]\n",
    "    b1 = cols.iloc[1]\n",
    "    b2 = cols.iloc[2]\n",
    "    b3 = cols.iloc[3]\n",
    "    b4 = cols.iloc[4]\n",
    "\n",
    "    if math.isnan(b) :\n",
    "        sum = (b1 == 0) + (b2 == 0) + (b3 == 0) + (b4 == 0)\n",
    "        if sum > 2 :\n",
    "            return 0\n",
    "        else :\n",
    "            return 1\n",
    "    else :\n",
    "        return b\n",
    "\n",
    "train['behavioral_face_mask'] = train[['behavioral_face_mask', 'behavioral_avoidance', 'behavioral_wash_hands', 'behavioral_large_gatherings', 'behavioral_outside_home']].apply(f1, axis=1)\n",
    "train['behavioral_touch_face'] = train[['behavioral_touch_face', 'behavioral_avoidance', 'behavioral_wash_hands', 'behavioral_large_gatherings', 'behavioral_outside_home']].apply(f1, axis=1)\n",
    "\n",
    "filter_ = train.isna().sum(axis=1) == 0\n",
    "train = train[filter_]\n",
    "test = test[filter_]"
   ]
  },
  {
   "cell_type": "code",
   "execution_count": 9,
   "id": "db3cb58d-b932-4e74-86ae-910e0f89f8b9",
   "metadata": {},
   "outputs": [
    {
     "data": {
      "text/plain": [
       "<Axes: >"
      ]
     },
     "execution_count": 9,
     "metadata": {},
     "output_type": "execute_result"
    },
    {
     "data": {
      "image/png": "[encoded data removed]",
      "text/plain": [
       "<Figure size 640x480 with 1 Axes>"
      ]
     },
     "metadata": {},
     "output_type": "display_data"
    }
   ],
   "source": [
    "sns.heatmap(train.isnull(), yticklabels=False, cbar=False, cmap='viridis')"
   ]
  },
  {
   "cell_type": "code",
   "execution_count": 10,
   "id": "16add396-3755-4579-8f29-374303e4e809",
   "metadata": {},
   "outputs": [
    {
     "data": {
      "text/plain": [
       "0"
      ]
     },
     "execution_count": 10,
     "metadata": {},
     "output_type": "execute_result"
    }
   ],
   "source": [
    "sum(train.isna().sum(axis=1) > 0)"
   ]
  },
  {
   "cell_type": "code",
   "execution_count": null,
   "id": "b914b864-12ce-4bf3-a5a4-b7ae7b729b54",
   "metadata": {},
   "outputs": [],
   "source": [
    "train[\"census_msa\"] = train[\"census_msa\"].astype('category')\n",
    "train[\"hhs_geo_region\"] = train[\"hhs_geo_region\"].astype('category')\n",
    "\n",
    "train.loc[\"census_msa\"] = train[\"census_msa\"].cat.codes\n",
    "train.loc[\"hhs_geo_region\"] = train[\"hhs_geo_region\"].cat.codes"
   ]
  },
  {
   "cell_type": "code",
   "execution_count": 23,
   "id": "9c2be334-078c-4739-84c7-0f9ff92415d7",
   "metadata": {
    "scrolled": true
   },
   "outputs": [
    {
     "data": {
      "text/plain": [
       "respondent_id                              int64\n",
       "xyz_concern                              float64\n",
       "xyz_knowledge                            float64\n",
       "behavioral_antiviral_meds                float64\n",
       "behavioral_avoidance                     float64\n",
       "behavioral_face_mask                     float64\n",
       "behavioral_wash_hands                    float64\n",
       "behavioral_large_gatherings              float64\n",
       "behavioral_outside_home                  float64\n",
       "behavioral_touch_face                    float64\n",
       "doctor_recc_xyz                          float64\n",
       "doctor_recc_seasonal                     float64\n",
       "chronic_med_condition                    float64\n",
       "child_under_6_months                     float64\n",
       "health_worker                            float64\n",
       "opinion_xyz_vacc_effective               float64\n",
       "opinion_xyz_risk                         float64\n",
       "opinion_xyz_sick_from_vacc               float64\n",
       "opinion_seas_vacc_effective              float64\n",
       "opinion_seas_risk                        float64\n",
       "opinion_seas_sick_from_vacc              float64\n",
       "age_group                                  int64\n",
       "education                                float64\n",
       "income_poverty                           float64\n",
       "hhs_geo_region                          category\n",
       "census_msa                              category\n",
       "household_adults                         float64\n",
       "household_children                       float64\n",
       "marital_status_Married                      bool\n",
       "marital_status_Not Married                  bool\n",
       "employment_status_Employed                  bool\n",
       "employment_status_Not in Labor Force        bool\n",
       "employment_status_Unemployed                bool\n",
       "sex_Female                                  bool\n",
       "sex_Male                                    bool\n",
       "race_Black                                  bool\n",
       "race_Hispanic                               bool\n",
       "race_Other or Multiple                      bool\n",
       "race_White                                  bool\n",
       "dtype: object"
      ]
     },
     "execution_count": 23,
     "metadata": {},
     "output_type": "execute_result"
    }
   ],
   "source": [
    "train.dtypes"
   ]
  },
  {
   "cell_type": "code",
   "execution_count": 12,
   "id": "a6d02755-eea3-4662-ab67-760405e7b676",
   "metadata": {},
   "outputs": [],
   "source": [
    "train = pd.get_dummies(train, columns=[\"marital_status\"])\n",
    "train = pd.get_dummies(train, columns=[\"employment_status\"])\n",
    "train = pd.get_dummies(train, columns=[\"sex\"])\n",
    "train = pd.get_dummies(train, columns=[\"race\"])"
   ]
  },
  {
   "cell_type": "code",
   "execution_count": 13,
   "id": "2b47ba37-040b-4ddd-b668-8c3bc11df606",
   "metadata": {},
   "outputs": [],
   "source": [
    "from sklearn.preprocessing import StandardScaler\n",
    "from sklearn.linear_model import Lasso\n",
    "from sklearn.feature_selection import RFE\n",
    "from sklearn.model_selection import train_test_split\n",
    "from sklearn.metrics import mean_squared_error"
   ]
  },
  {
   "cell_type": "code",
   "execution_count": 14,
   "id": "c6d75298-b250-4869-9570-482184bd0f89",
   "metadata": {},
   "outputs": [
    {
     "data": {
      "text/plain": [
       "Index(['respondent_id', 'xyz_vaccine', 'seasonal_vaccine'], dtype='object')"
      ]
     },
     "execution_count": 14,
     "metadata": {},
     "output_type": "execute_result"
    }
   ],
   "source": [
    "test.columns"
   ]
  },
  {
   "cell_type": "code",
   "execution_count": 15,
   "id": "cb906377-7cdc-4818-bc8d-3d180b5a90f9",
   "metadata": {},
   "outputs": [],
   "source": [
    "X = train.copy()   # replace by train after removing null values\n",
    "X = X.drop(columns=['doctor_recc_seasonal', 'opinion_seas_vacc_effective', 'opinion_seas_risk', 'opinion_seas_sick_from_vacc'])\n",
    "y = test['xyz_vaccine'].copy()    # replace with the labels (test)"
   ]
  },
  {
   "cell_type": "code",
   "execution_count": 17,
   "id": "78e2e737-b302-4ce4-a029-9d7dae686625",
   "metadata": {},
   "outputs": [
    {
     "data": {
      "text/plain": [
       "respondent_id                             int64\n",
       "xyz_concern                             float64\n",
       "xyz_knowledge                           float64\n",
       "behavioral_antiviral_meds               float64\n",
       "behavioral_avoidance                    float64\n",
       "behavioral_face_mask                    float64\n",
       "behavioral_wash_hands                   float64\n",
       "behavioral_large_gatherings             float64\n",
       "behavioral_outside_home                 float64\n",
       "behavioral_touch_face                   float64\n",
       "doctor_recc_xyz                         float64\n",
       "chronic_med_condition                   float64\n",
       "child_under_6_months                    float64\n",
       "health_worker                           float64\n",
       "opinion_xyz_vacc_effective              float64\n",
       "opinion_xyz_risk                        float64\n",
       "opinion_xyz_sick_from_vacc              float64\n",
       "age_group                                 int64\n",
       "education                               float64\n",
       "income_poverty                          float64\n",
       "hhs_geo_region                           object\n",
       "census_msa                               object\n",
       "household_adults                        float64\n",
       "household_children                      float64\n",
       "marital_status_Married                     bool\n",
       "marital_status_Not Married                 bool\n",
       "employment_status_Employed                 bool\n",
       "employment_status_Not in Labor Force       bool\n",
       "employment_status_Unemployed               bool\n",
       "sex_Female                                 bool\n",
       "sex_Male                                   bool\n",
       "race_Black                                 bool\n",
       "race_Hispanic                              bool\n",
       "race_Other or Multiple                     bool\n",
       "race_White                                 bool\n",
       "dtype: object"
      ]
     },
     "execution_count": 17,
     "metadata": {},
     "output_type": "execute_result"
    }
   ],
   "source": [
    "X.dtypes"
   ]
  },
  {
   "cell_type": "code",
   "execution_count": 16,
   "id": "71b1301e-01c6-4f24-aa1b-121a16786f65",
   "metadata": {},
   "outputs": [
    {
     "ename": "ValueError",
     "evalue": "could not convert string to float: 'lrircsnp'",
     "output_type": "error",
     "traceback": [
      "\u001b[1;31m---------------------------------------------------------------------------\u001b[0m",
      "\u001b[1;31mValueError\u001b[0m                                Traceback (most recent call last)",
      "Cell \u001b[1;32mIn[16], line 12\u001b[0m\n\u001b[0;32m     10\u001b[0m \u001b[38;5;66;03m# Standardize the data\u001b[39;00m\n\u001b[0;32m     11\u001b[0m scaler \u001b[38;5;241m=\u001b[39m StandardScaler()\n\u001b[1;32m---> 12\u001b[0m X_train_scaled \u001b[38;5;241m=\u001b[39m \u001b[43mscaler\u001b[49m\u001b[38;5;241;43m.\u001b[39;49m\u001b[43mfit_transform\u001b[49m\u001b[43m(\u001b[49m\u001b[43mX_train\u001b[49m\u001b[43m)\u001b[49m\n\u001b[0;32m     13\u001b[0m X_test_scaled \u001b[38;5;241m=\u001b[39m scaler\u001b[38;5;241m.\u001b[39mtransform(X_test)\n\u001b[0;32m     15\u001b[0m \u001b[38;5;66;03m# Define a parameter grid for alpha\u001b[39;00m\n",
      "File \u001b[1;32m~\\AppData\\Local\\Programs\\Python\\Python312\\Lib\\site-packages\\sklearn\\utils\\_set_output.py:313\u001b[0m, in \u001b[0;36m_wrap_method_output.<locals>.wrapped\u001b[1;34m(self, X, *args, **kwargs)\u001b[0m\n\u001b[0;32m    311\u001b[0m \u001b[38;5;129m@wraps\u001b[39m(f)\n\u001b[0;32m    312\u001b[0m \u001b[38;5;28;01mdef\u001b[39;00m \u001b[38;5;21mwrapped\u001b[39m(\u001b[38;5;28mself\u001b[39m, X, \u001b[38;5;241m*\u001b[39margs, \u001b[38;5;241m*\u001b[39m\u001b[38;5;241m*\u001b[39mkwargs):\n\u001b[1;32m--> 313\u001b[0m     data_to_wrap \u001b[38;5;241m=\u001b[39m \u001b[43mf\u001b[49m\u001b[43m(\u001b[49m\u001b[38;5;28;43mself\u001b[39;49m\u001b[43m,\u001b[49m\u001b[43m \u001b[49m\u001b[43mX\u001b[49m\u001b[43m,\u001b[49m\u001b[43m \u001b[49m\u001b[38;5;241;43m*\u001b[39;49m\u001b[43margs\u001b[49m\u001b[43m,\u001b[49m\u001b[43m \u001b[49m\u001b[38;5;241;43m*\u001b[39;49m\u001b[38;5;241;43m*\u001b[39;49m\u001b[43mkwargs\u001b[49m\u001b[43m)\u001b[49m\n\u001b[0;32m    314\u001b[0m     \u001b[38;5;28;01mif\u001b[39;00m \u001b[38;5;28misinstance\u001b[39m(data_to_wrap, \u001b[38;5;28mtuple\u001b[39m):\n\u001b[0;32m    315\u001b[0m         \u001b[38;5;66;03m# only wrap the first output for cross decomposition\u001b[39;00m\n\u001b[0;32m    316\u001b[0m         return_tuple \u001b[38;5;241m=\u001b[39m (\n\u001b[0;32m    317\u001b[0m             _wrap_data_with_container(method, data_to_wrap[\u001b[38;5;241m0\u001b[39m], X, \u001b[38;5;28mself\u001b[39m),\n\u001b[0;32m    318\u001b[0m             \u001b[38;5;241m*\u001b[39mdata_to_wrap[\u001b[38;5;241m1\u001b[39m:],\n\u001b[0;32m    319\u001b[0m         )\n",
      "File \u001b[1;32m~\\AppData\\Local\\Programs\\Python\\Python312\\Lib\\site-packages\\sklearn\\base.py:1098\u001b[0m, in \u001b[0;36mTransformerMixin.fit_transform\u001b[1;34m(self, X, y, **fit_params)\u001b[0m\n\u001b[0;32m   1083\u001b[0m         warnings\u001b[38;5;241m.\u001b[39mwarn(\n\u001b[0;32m   1084\u001b[0m             (\n\u001b[0;32m   1085\u001b[0m                 \u001b[38;5;124mf\u001b[39m\u001b[38;5;124m\"\u001b[39m\u001b[38;5;124mThis object (\u001b[39m\u001b[38;5;132;01m{\u001b[39;00m\u001b[38;5;28mself\u001b[39m\u001b[38;5;241m.\u001b[39m\u001b[38;5;18m__class__\u001b[39m\u001b[38;5;241m.\u001b[39m\u001b[38;5;18m__name__\u001b[39m\u001b[38;5;132;01m}\u001b[39;00m\u001b[38;5;124m) has a `transform`\u001b[39m\u001b[38;5;124m\"\u001b[39m\n\u001b[1;32m   (...)\u001b[0m\n\u001b[0;32m   1093\u001b[0m             \u001b[38;5;167;01mUserWarning\u001b[39;00m,\n\u001b[0;32m   1094\u001b[0m         )\n\u001b[0;32m   1096\u001b[0m \u001b[38;5;28;01mif\u001b[39;00m y \u001b[38;5;129;01mis\u001b[39;00m \u001b[38;5;28;01mNone\u001b[39;00m:\n\u001b[0;32m   1097\u001b[0m     \u001b[38;5;66;03m# fit method of arity 1 (unsupervised transformation)\u001b[39;00m\n\u001b[1;32m-> 1098\u001b[0m     \u001b[38;5;28;01mreturn\u001b[39;00m \u001b[38;5;28;43mself\u001b[39;49m\u001b[38;5;241;43m.\u001b[39;49m\u001b[43mfit\u001b[49m\u001b[43m(\u001b[49m\u001b[43mX\u001b[49m\u001b[43m,\u001b[49m\u001b[43m \u001b[49m\u001b[38;5;241;43m*\u001b[39;49m\u001b[38;5;241;43m*\u001b[39;49m\u001b[43mfit_params\u001b[49m\u001b[43m)\u001b[49m\u001b[38;5;241m.\u001b[39mtransform(X)\n\u001b[0;32m   1099\u001b[0m \u001b[38;5;28;01melse\u001b[39;00m:\n\u001b[0;32m   1100\u001b[0m     \u001b[38;5;66;03m# fit method of arity 2 (supervised transformation)\u001b[39;00m\n\u001b[0;32m   1101\u001b[0m     \u001b[38;5;28;01mreturn\u001b[39;00m \u001b[38;5;28mself\u001b[39m\u001b[38;5;241m.\u001b[39mfit(X, y, \u001b[38;5;241m*\u001b[39m\u001b[38;5;241m*\u001b[39mfit_params)\u001b[38;5;241m.\u001b[39mtransform(X)\n",
      "File \u001b[1;32m~\\AppData\\Local\\Programs\\Python\\Python312\\Lib\\site-packages\\sklearn\\preprocessing\\_data.py:876\u001b[0m, in \u001b[0;36mStandardScaler.fit\u001b[1;34m(self, X, y, sample_weight)\u001b[0m\n\u001b[0;32m    874\u001b[0m \u001b[38;5;66;03m# Reset internal state before fitting\u001b[39;00m\n\u001b[0;32m    875\u001b[0m \u001b[38;5;28mself\u001b[39m\u001b[38;5;241m.\u001b[39m_reset()\n\u001b[1;32m--> 876\u001b[0m \u001b[38;5;28;01mreturn\u001b[39;00m \u001b[38;5;28;43mself\u001b[39;49m\u001b[38;5;241;43m.\u001b[39;49m\u001b[43mpartial_fit\u001b[49m\u001b[43m(\u001b[49m\u001b[43mX\u001b[49m\u001b[43m,\u001b[49m\u001b[43m \u001b[49m\u001b[43my\u001b[49m\u001b[43m,\u001b[49m\u001b[43m \u001b[49m\u001b[43msample_weight\u001b[49m\u001b[43m)\u001b[49m\n",
      "File \u001b[1;32m~\\AppData\\Local\\Programs\\Python\\Python312\\Lib\\site-packages\\sklearn\\base.py:1473\u001b[0m, in \u001b[0;36m_fit_context.<locals>.decorator.<locals>.wrapper\u001b[1;34m(estimator, *args, **kwargs)\u001b[0m\n\u001b[0;32m   1466\u001b[0m     estimator\u001b[38;5;241m.\u001b[39m_validate_params()\n\u001b[0;32m   1468\u001b[0m \u001b[38;5;28;01mwith\u001b[39;00m config_context(\n\u001b[0;32m   1469\u001b[0m     skip_parameter_validation\u001b[38;5;241m=\u001b[39m(\n\u001b[0;32m   1470\u001b[0m         prefer_skip_nested_validation \u001b[38;5;129;01mor\u001b[39;00m global_skip_validation\n\u001b[0;32m   1471\u001b[0m     )\n\u001b[0;32m   1472\u001b[0m ):\n\u001b[1;32m-> 1473\u001b[0m     \u001b[38;5;28;01mreturn\u001b[39;00m \u001b[43mfit_method\u001b[49m\u001b[43m(\u001b[49m\u001b[43mestimator\u001b[49m\u001b[43m,\u001b[49m\u001b[43m \u001b[49m\u001b[38;5;241;43m*\u001b[39;49m\u001b[43margs\u001b[49m\u001b[43m,\u001b[49m\u001b[43m \u001b[49m\u001b[38;5;241;43m*\u001b[39;49m\u001b[38;5;241;43m*\u001b[39;49m\u001b[43mkwargs\u001b[49m\u001b[43m)\u001b[49m\n",
      "File \u001b[1;32m~\\AppData\\Local\\Programs\\Python\\Python312\\Lib\\site-packages\\sklearn\\preprocessing\\_data.py:912\u001b[0m, in \u001b[0;36mStandardScaler.partial_fit\u001b[1;34m(self, X, y, sample_weight)\u001b[0m\n\u001b[0;32m    880\u001b[0m \u001b[38;5;250m\u001b[39m\u001b[38;5;124;03m\"\"\"Online computation of mean and std on X for later scaling.\u001b[39;00m\n\u001b[0;32m    881\u001b[0m \n\u001b[0;32m    882\u001b[0m \u001b[38;5;124;03mAll of X is processed as a single batch. This is intended for cases\u001b[39;00m\n\u001b[1;32m   (...)\u001b[0m\n\u001b[0;32m    909\u001b[0m \u001b[38;5;124;03m    Fitted scaler.\u001b[39;00m\n\u001b[0;32m    910\u001b[0m \u001b[38;5;124;03m\"\"\"\u001b[39;00m\n\u001b[0;32m    911\u001b[0m first_call \u001b[38;5;241m=\u001b[39m \u001b[38;5;129;01mnot\u001b[39;00m \u001b[38;5;28mhasattr\u001b[39m(\u001b[38;5;28mself\u001b[39m, \u001b[38;5;124m\"\u001b[39m\u001b[38;5;124mn_samples_seen_\u001b[39m\u001b[38;5;124m\"\u001b[39m)\n\u001b[1;32m--> 912\u001b[0m X \u001b[38;5;241m=\u001b[39m \u001b[38;5;28;43mself\u001b[39;49m\u001b[38;5;241;43m.\u001b[39;49m\u001b[43m_validate_data\u001b[49m\u001b[43m(\u001b[49m\n\u001b[0;32m    913\u001b[0m \u001b[43m    \u001b[49m\u001b[43mX\u001b[49m\u001b[43m,\u001b[49m\n\u001b[0;32m    914\u001b[0m \u001b[43m    \u001b[49m\u001b[43maccept_sparse\u001b[49m\u001b[38;5;241;43m=\u001b[39;49m\u001b[43m(\u001b[49m\u001b[38;5;124;43m\"\u001b[39;49m\u001b[38;5;124;43mcsr\u001b[39;49m\u001b[38;5;124;43m\"\u001b[39;49m\u001b[43m,\u001b[49m\u001b[43m \u001b[49m\u001b[38;5;124;43m\"\u001b[39;49m\u001b[38;5;124;43mcsc\u001b[39;49m\u001b[38;5;124;43m\"\u001b[39;49m\u001b[43m)\u001b[49m\u001b[43m,\u001b[49m\n\u001b[0;32m    915\u001b[0m \u001b[43m    \u001b[49m\u001b[43mdtype\u001b[49m\u001b[38;5;241;43m=\u001b[39;49m\u001b[43mFLOAT_DTYPES\u001b[49m\u001b[43m,\u001b[49m\n\u001b[0;32m    916\u001b[0m \u001b[43m    \u001b[49m\u001b[43mforce_all_finite\u001b[49m\u001b[38;5;241;43m=\u001b[39;49m\u001b[38;5;124;43m\"\u001b[39;49m\u001b[38;5;124;43mallow-nan\u001b[39;49m\u001b[38;5;124;43m\"\u001b[39;49m\u001b[43m,\u001b[49m\n\u001b[0;32m    917\u001b[0m \u001b[43m    \u001b[49m\u001b[43mreset\u001b[49m\u001b[38;5;241;43m=\u001b[39;49m\u001b[43mfirst_call\u001b[49m\u001b[43m,\u001b[49m\n\u001b[0;32m    918\u001b[0m \u001b[43m\u001b[49m\u001b[43m)\u001b[49m\n\u001b[0;32m    919\u001b[0m n_features \u001b[38;5;241m=\u001b[39m X\u001b[38;5;241m.\u001b[39mshape[\u001b[38;5;241m1\u001b[39m]\n\u001b[0;32m    921\u001b[0m \u001b[38;5;28;01mif\u001b[39;00m sample_weight \u001b[38;5;129;01mis\u001b[39;00m \u001b[38;5;129;01mnot\u001b[39;00m \u001b[38;5;28;01mNone\u001b[39;00m:\n",
      "File \u001b[1;32m~\\AppData\\Local\\Programs\\Python\\Python312\\Lib\\site-packages\\sklearn\\base.py:633\u001b[0m, in \u001b[0;36mBaseEstimator._validate_data\u001b[1;34m(self, X, y, reset, validate_separately, cast_to_ndarray, **check_params)\u001b[0m\n\u001b[0;32m    631\u001b[0m         out \u001b[38;5;241m=\u001b[39m X, y\n\u001b[0;32m    632\u001b[0m \u001b[38;5;28;01melif\u001b[39;00m \u001b[38;5;129;01mnot\u001b[39;00m no_val_X \u001b[38;5;129;01mand\u001b[39;00m no_val_y:\n\u001b[1;32m--> 633\u001b[0m     out \u001b[38;5;241m=\u001b[39m \u001b[43mcheck_array\u001b[49m\u001b[43m(\u001b[49m\u001b[43mX\u001b[49m\u001b[43m,\u001b[49m\u001b[43m \u001b[49m\u001b[43minput_name\u001b[49m\u001b[38;5;241;43m=\u001b[39;49m\u001b[38;5;124;43m\"\u001b[39;49m\u001b[38;5;124;43mX\u001b[39;49m\u001b[38;5;124;43m\"\u001b[39;49m\u001b[43m,\u001b[49m\u001b[43m \u001b[49m\u001b[38;5;241;43m*\u001b[39;49m\u001b[38;5;241;43m*\u001b[39;49m\u001b[43mcheck_params\u001b[49m\u001b[43m)\u001b[49m\n\u001b[0;32m    634\u001b[0m \u001b[38;5;28;01melif\u001b[39;00m no_val_X \u001b[38;5;129;01mand\u001b[39;00m \u001b[38;5;129;01mnot\u001b[39;00m no_val_y:\n\u001b[0;32m    635\u001b[0m     out \u001b[38;5;241m=\u001b[39m _check_y(y, \u001b[38;5;241m*\u001b[39m\u001b[38;5;241m*\u001b[39mcheck_params)\n",
      "File \u001b[1;32m~\\AppData\\Local\\Programs\\Python\\Python312\\Lib\\site-packages\\sklearn\\utils\\validation.py:924\u001b[0m, in \u001b[0;36mcheck_array\u001b[1;34m(array, accept_sparse, accept_large_sparse, dtype, order, copy, force_all_finite, ensure_2d, allow_nd, ensure_min_samples, ensure_min_features, estimator, input_name)\u001b[0m\n\u001b[0;32m    919\u001b[0m \u001b[38;5;28;01mif\u001b[39;00m pandas_requires_conversion:\n\u001b[0;32m    920\u001b[0m     \u001b[38;5;66;03m# pandas dataframe requires conversion earlier to handle extension dtypes with\u001b[39;00m\n\u001b[0;32m    921\u001b[0m     \u001b[38;5;66;03m# nans\u001b[39;00m\n\u001b[0;32m    922\u001b[0m     \u001b[38;5;66;03m# Use the original dtype for conversion if dtype is None\u001b[39;00m\n\u001b[0;32m    923\u001b[0m     new_dtype \u001b[38;5;241m=\u001b[39m dtype_orig \u001b[38;5;28;01mif\u001b[39;00m dtype \u001b[38;5;129;01mis\u001b[39;00m \u001b[38;5;28;01mNone\u001b[39;00m \u001b[38;5;28;01melse\u001b[39;00m dtype\n\u001b[1;32m--> 924\u001b[0m     array \u001b[38;5;241m=\u001b[39m \u001b[43marray\u001b[49m\u001b[38;5;241;43m.\u001b[39;49m\u001b[43mastype\u001b[49m\u001b[43m(\u001b[49m\u001b[43mnew_dtype\u001b[49m\u001b[43m)\u001b[49m\n\u001b[0;32m    925\u001b[0m     \u001b[38;5;66;03m# Since we converted here, we do not need to convert again later\u001b[39;00m\n\u001b[0;32m    926\u001b[0m     dtype \u001b[38;5;241m=\u001b[39m \u001b[38;5;28;01mNone\u001b[39;00m\n",
      "File \u001b[1;32m~\\AppData\\Local\\Programs\\Python\\Python312\\Lib\\site-packages\\pandas\\core\\generic.py:6643\u001b[0m, in \u001b[0;36mNDFrame.astype\u001b[1;34m(self, dtype, copy, errors)\u001b[0m\n\u001b[0;32m   6637\u001b[0m     results \u001b[38;5;241m=\u001b[39m [\n\u001b[0;32m   6638\u001b[0m         ser\u001b[38;5;241m.\u001b[39mastype(dtype, copy\u001b[38;5;241m=\u001b[39mcopy, errors\u001b[38;5;241m=\u001b[39merrors) \u001b[38;5;28;01mfor\u001b[39;00m _, ser \u001b[38;5;129;01min\u001b[39;00m \u001b[38;5;28mself\u001b[39m\u001b[38;5;241m.\u001b[39mitems()\n\u001b[0;32m   6639\u001b[0m     ]\n\u001b[0;32m   6641\u001b[0m \u001b[38;5;28;01melse\u001b[39;00m:\n\u001b[0;32m   6642\u001b[0m     \u001b[38;5;66;03m# else, only a single dtype is given\u001b[39;00m\n\u001b[1;32m-> 6643\u001b[0m     new_data \u001b[38;5;241m=\u001b[39m \u001b[38;5;28;43mself\u001b[39;49m\u001b[38;5;241;43m.\u001b[39;49m\u001b[43m_mgr\u001b[49m\u001b[38;5;241;43m.\u001b[39;49m\u001b[43mastype\u001b[49m\u001b[43m(\u001b[49m\u001b[43mdtype\u001b[49m\u001b[38;5;241;43m=\u001b[39;49m\u001b[43mdtype\u001b[49m\u001b[43m,\u001b[49m\u001b[43m \u001b[49m\u001b[43mcopy\u001b[49m\u001b[38;5;241;43m=\u001b[39;49m\u001b[43mcopy\u001b[49m\u001b[43m,\u001b[49m\u001b[43m \u001b[49m\u001b[43merrors\u001b[49m\u001b[38;5;241;43m=\u001b[39;49m\u001b[43merrors\u001b[49m\u001b[43m)\u001b[49m\n\u001b[0;32m   6644\u001b[0m     res \u001b[38;5;241m=\u001b[39m \u001b[38;5;28mself\u001b[39m\u001b[38;5;241m.\u001b[39m_constructor_from_mgr(new_data, axes\u001b[38;5;241m=\u001b[39mnew_data\u001b[38;5;241m.\u001b[39maxes)\n\u001b[0;32m   6645\u001b[0m     \u001b[38;5;28;01mreturn\u001b[39;00m res\u001b[38;5;241m.\u001b[39m__finalize__(\u001b[38;5;28mself\u001b[39m, method\u001b[38;5;241m=\u001b[39m\u001b[38;5;124m\"\u001b[39m\u001b[38;5;124mastype\u001b[39m\u001b[38;5;124m\"\u001b[39m)\n",
      "File \u001b[1;32m~\\AppData\\Local\\Programs\\Python\\Python312\\Lib\\site-packages\\pandas\\core\\internals\\managers.py:430\u001b[0m, in \u001b[0;36mBaseBlockManager.astype\u001b[1;34m(self, dtype, copy, errors)\u001b[0m\n\u001b[0;32m    427\u001b[0m \u001b[38;5;28;01melif\u001b[39;00m using_copy_on_write():\n\u001b[0;32m    428\u001b[0m     copy \u001b[38;5;241m=\u001b[39m \u001b[38;5;28;01mFalse\u001b[39;00m\n\u001b[1;32m--> 430\u001b[0m \u001b[38;5;28;01mreturn\u001b[39;00m \u001b[38;5;28;43mself\u001b[39;49m\u001b[38;5;241;43m.\u001b[39;49m\u001b[43mapply\u001b[49m\u001b[43m(\u001b[49m\n\u001b[0;32m    431\u001b[0m \u001b[43m    \u001b[49m\u001b[38;5;124;43m\"\u001b[39;49m\u001b[38;5;124;43mastype\u001b[39;49m\u001b[38;5;124;43m\"\u001b[39;49m\u001b[43m,\u001b[49m\n\u001b[0;32m    432\u001b[0m \u001b[43m    \u001b[49m\u001b[43mdtype\u001b[49m\u001b[38;5;241;43m=\u001b[39;49m\u001b[43mdtype\u001b[49m\u001b[43m,\u001b[49m\n\u001b[0;32m    433\u001b[0m \u001b[43m    \u001b[49m\u001b[43mcopy\u001b[49m\u001b[38;5;241;43m=\u001b[39;49m\u001b[43mcopy\u001b[49m\u001b[43m,\u001b[49m\n\u001b[0;32m    434\u001b[0m \u001b[43m    \u001b[49m\u001b[43merrors\u001b[49m\u001b[38;5;241;43m=\u001b[39;49m\u001b[43merrors\u001b[49m\u001b[43m,\u001b[49m\n\u001b[0;32m    435\u001b[0m \u001b[43m    \u001b[49m\u001b[43musing_cow\u001b[49m\u001b[38;5;241;43m=\u001b[39;49m\u001b[43musing_copy_on_write\u001b[49m\u001b[43m(\u001b[49m\u001b[43m)\u001b[49m\u001b[43m,\u001b[49m\n\u001b[0;32m    436\u001b[0m \u001b[43m\u001b[49m\u001b[43m)\u001b[49m\n",
      "File \u001b[1;32m~\\AppData\\Local\\Programs\\Python\\Python312\\Lib\\site-packages\\pandas\\core\\internals\\managers.py:363\u001b[0m, in \u001b[0;36mBaseBlockManager.apply\u001b[1;34m(self, f, align_keys, **kwargs)\u001b[0m\n\u001b[0;32m    361\u001b[0m         applied \u001b[38;5;241m=\u001b[39m b\u001b[38;5;241m.\u001b[39mapply(f, \u001b[38;5;241m*\u001b[39m\u001b[38;5;241m*\u001b[39mkwargs)\n\u001b[0;32m    362\u001b[0m     \u001b[38;5;28;01melse\u001b[39;00m:\n\u001b[1;32m--> 363\u001b[0m         applied \u001b[38;5;241m=\u001b[39m \u001b[38;5;28;43mgetattr\u001b[39;49m\u001b[43m(\u001b[49m\u001b[43mb\u001b[49m\u001b[43m,\u001b[49m\u001b[43m \u001b[49m\u001b[43mf\u001b[49m\u001b[43m)\u001b[49m\u001b[43m(\u001b[49m\u001b[38;5;241;43m*\u001b[39;49m\u001b[38;5;241;43m*\u001b[39;49m\u001b[43mkwargs\u001b[49m\u001b[43m)\u001b[49m\n\u001b[0;32m    364\u001b[0m     result_blocks \u001b[38;5;241m=\u001b[39m extend_blocks(applied, result_blocks)\n\u001b[0;32m    366\u001b[0m out \u001b[38;5;241m=\u001b[39m \u001b[38;5;28mtype\u001b[39m(\u001b[38;5;28mself\u001b[39m)\u001b[38;5;241m.\u001b[39mfrom_blocks(result_blocks, \u001b[38;5;28mself\u001b[39m\u001b[38;5;241m.\u001b[39maxes)\n",
      "File \u001b[1;32m~\\AppData\\Local\\Programs\\Python\\Python312\\Lib\\site-packages\\pandas\\core\\internals\\blocks.py:758\u001b[0m, in \u001b[0;36mBlock.astype\u001b[1;34m(self, dtype, copy, errors, using_cow, squeeze)\u001b[0m\n\u001b[0;32m    755\u001b[0m         \u001b[38;5;28;01mraise\u001b[39;00m \u001b[38;5;167;01mValueError\u001b[39;00m(\u001b[38;5;124m\"\u001b[39m\u001b[38;5;124mCan not squeeze with more than one column.\u001b[39m\u001b[38;5;124m\"\u001b[39m)\n\u001b[0;32m    756\u001b[0m     values \u001b[38;5;241m=\u001b[39m values[\u001b[38;5;241m0\u001b[39m, :]  \u001b[38;5;66;03m# type: ignore[call-overload]\u001b[39;00m\n\u001b[1;32m--> 758\u001b[0m new_values \u001b[38;5;241m=\u001b[39m \u001b[43mastype_array_safe\u001b[49m\u001b[43m(\u001b[49m\u001b[43mvalues\u001b[49m\u001b[43m,\u001b[49m\u001b[43m \u001b[49m\u001b[43mdtype\u001b[49m\u001b[43m,\u001b[49m\u001b[43m \u001b[49m\u001b[43mcopy\u001b[49m\u001b[38;5;241;43m=\u001b[39;49m\u001b[43mcopy\u001b[49m\u001b[43m,\u001b[49m\u001b[43m \u001b[49m\u001b[43merrors\u001b[49m\u001b[38;5;241;43m=\u001b[39;49m\u001b[43merrors\u001b[49m\u001b[43m)\u001b[49m\n\u001b[0;32m    760\u001b[0m new_values \u001b[38;5;241m=\u001b[39m maybe_coerce_values(new_values)\n\u001b[0;32m    762\u001b[0m refs \u001b[38;5;241m=\u001b[39m \u001b[38;5;28;01mNone\u001b[39;00m\n",
      "File \u001b[1;32m~\\AppData\\Local\\Programs\\Python\\Python312\\Lib\\site-packages\\pandas\\core\\dtypes\\astype.py:237\u001b[0m, in \u001b[0;36mastype_array_safe\u001b[1;34m(values, dtype, copy, errors)\u001b[0m\n\u001b[0;32m    234\u001b[0m     dtype \u001b[38;5;241m=\u001b[39m dtype\u001b[38;5;241m.\u001b[39mnumpy_dtype\n\u001b[0;32m    236\u001b[0m \u001b[38;5;28;01mtry\u001b[39;00m:\n\u001b[1;32m--> 237\u001b[0m     new_values \u001b[38;5;241m=\u001b[39m \u001b[43mastype_array\u001b[49m\u001b[43m(\u001b[49m\u001b[43mvalues\u001b[49m\u001b[43m,\u001b[49m\u001b[43m \u001b[49m\u001b[43mdtype\u001b[49m\u001b[43m,\u001b[49m\u001b[43m \u001b[49m\u001b[43mcopy\u001b[49m\u001b[38;5;241;43m=\u001b[39;49m\u001b[43mcopy\u001b[49m\u001b[43m)\u001b[49m\n\u001b[0;32m    238\u001b[0m \u001b[38;5;28;01mexcept\u001b[39;00m (\u001b[38;5;167;01mValueError\u001b[39;00m, \u001b[38;5;167;01mTypeError\u001b[39;00m):\n\u001b[0;32m    239\u001b[0m     \u001b[38;5;66;03m# e.g. _astype_nansafe can fail on object-dtype of strings\u001b[39;00m\n\u001b[0;32m    240\u001b[0m     \u001b[38;5;66;03m#  trying to convert to float\u001b[39;00m\n\u001b[0;32m    241\u001b[0m     \u001b[38;5;28;01mif\u001b[39;00m errors \u001b[38;5;241m==\u001b[39m \u001b[38;5;124m\"\u001b[39m\u001b[38;5;124mignore\u001b[39m\u001b[38;5;124m\"\u001b[39m:\n",
      "File \u001b[1;32m~\\AppData\\Local\\Programs\\Python\\Python312\\Lib\\site-packages\\pandas\\core\\dtypes\\astype.py:182\u001b[0m, in \u001b[0;36mastype_array\u001b[1;34m(values, dtype, copy)\u001b[0m\n\u001b[0;32m    179\u001b[0m     values \u001b[38;5;241m=\u001b[39m values\u001b[38;5;241m.\u001b[39mastype(dtype, copy\u001b[38;5;241m=\u001b[39mcopy)\n\u001b[0;32m    181\u001b[0m \u001b[38;5;28;01melse\u001b[39;00m:\n\u001b[1;32m--> 182\u001b[0m     values \u001b[38;5;241m=\u001b[39m \u001b[43m_astype_nansafe\u001b[49m\u001b[43m(\u001b[49m\u001b[43mvalues\u001b[49m\u001b[43m,\u001b[49m\u001b[43m \u001b[49m\u001b[43mdtype\u001b[49m\u001b[43m,\u001b[49m\u001b[43m \u001b[49m\u001b[43mcopy\u001b[49m\u001b[38;5;241;43m=\u001b[39;49m\u001b[43mcopy\u001b[49m\u001b[43m)\u001b[49m\n\u001b[0;32m    184\u001b[0m \u001b[38;5;66;03m# in pandas we don't store numpy str dtypes, so convert to object\u001b[39;00m\n\u001b[0;32m    185\u001b[0m \u001b[38;5;28;01mif\u001b[39;00m \u001b[38;5;28misinstance\u001b[39m(dtype, np\u001b[38;5;241m.\u001b[39mdtype) \u001b[38;5;129;01mand\u001b[39;00m \u001b[38;5;28missubclass\u001b[39m(values\u001b[38;5;241m.\u001b[39mdtype\u001b[38;5;241m.\u001b[39mtype, \u001b[38;5;28mstr\u001b[39m):\n",
      "File \u001b[1;32m~\\AppData\\Local\\Programs\\Python\\Python312\\Lib\\site-packages\\pandas\\core\\dtypes\\astype.py:133\u001b[0m, in \u001b[0;36m_astype_nansafe\u001b[1;34m(arr, dtype, copy, skipna)\u001b[0m\n\u001b[0;32m    129\u001b[0m     \u001b[38;5;28;01mraise\u001b[39;00m \u001b[38;5;167;01mValueError\u001b[39;00m(msg)\n\u001b[0;32m    131\u001b[0m \u001b[38;5;28;01mif\u001b[39;00m copy \u001b[38;5;129;01mor\u001b[39;00m arr\u001b[38;5;241m.\u001b[39mdtype \u001b[38;5;241m==\u001b[39m \u001b[38;5;28mobject\u001b[39m \u001b[38;5;129;01mor\u001b[39;00m dtype \u001b[38;5;241m==\u001b[39m \u001b[38;5;28mobject\u001b[39m:\n\u001b[0;32m    132\u001b[0m     \u001b[38;5;66;03m# Explicit copy, or required since NumPy can't view from / to object.\u001b[39;00m\n\u001b[1;32m--> 133\u001b[0m     \u001b[38;5;28;01mreturn\u001b[39;00m \u001b[43marr\u001b[49m\u001b[38;5;241;43m.\u001b[39;49m\u001b[43mastype\u001b[49m\u001b[43m(\u001b[49m\u001b[43mdtype\u001b[49m\u001b[43m,\u001b[49m\u001b[43m \u001b[49m\u001b[43mcopy\u001b[49m\u001b[38;5;241;43m=\u001b[39;49m\u001b[38;5;28;43;01mTrue\u001b[39;49;00m\u001b[43m)\u001b[49m\n\u001b[0;32m    135\u001b[0m \u001b[38;5;28;01mreturn\u001b[39;00m arr\u001b[38;5;241m.\u001b[39mastype(dtype, copy\u001b[38;5;241m=\u001b[39mcopy)\n",
      "\u001b[1;31mValueError\u001b[0m: could not convert string to float: 'lrircsnp'"
     ]
    }
   ],
   "source": [
    "from sklearn.model_selection import train_test_split, GridSearchCV\n",
    "from sklearn.preprocessing import StandardScaler\n",
    "from sklearn.linear_model import Lasso\n",
    "from sklearn.feature_selection import RFE\n",
    "from sklearn.metrics import mean_squared_error\n",
    "\n",
    "# Split the data\n",
    "X_train, X_test, y_train, y_test = train_test_split(X, y, test_size=0.3, random_state=42)\n",
    "\n",
    "# Standardize the data\n",
    "scaler = StandardScaler()\n",
    "X_train_scaled = scaler.fit_transform(X_train)\n",
    "X_test_scaled = scaler.transform(X_test)\n",
    "\n",
    "# Define a parameter grid for alpha\n",
    "param_grid = {'alpha': np.logspace(-4, 1, 50)}\n",
    "\n",
    "# Initialize Lasso\n",
    "lasso = Lasso(random_state=42)\n",
    "\n",
    "# Initialize GridSearchCV\n",
    "grid_search = GridSearchCV(lasso, param_grid, cv=5, scoring='neg_mean_squared_error', n_jobs=-1)\n",
    "\n",
    "# Fit GridSearchCV to find the best alpha\n",
    "grid_search.fit(X_train_scaled, y_train)\n",
    "\n",
    "# Best alpha found\n",
    "best_alpha = grid_search.best_params_['alpha']\n",
    "print(f\"Best alpha found: {best_alpha}\")\n",
    "\n",
    "# Fit Lasso with the best alpha on the full dataset\n",
    "lasso_best = Lasso(alpha=best_alpha, random_state=42)\n",
    "lasso_best.fit(X_train_scaled, y_train)\n",
    "\n",
    "# Predict and evaluate Lasso with best alpha\n",
    "y_pred_best = lasso_best.predict(X_test_scaled)\n",
    "print(f\"Lasso Regression with best alpha MSE: {mean_squared_error(y_test, y_pred_best)}\")\n",
    "\n",
    "# Initialize RFE with Lasso using the best alpha\n",
    "rfe = RFE(estimator=lasso_best, n_features_to_select=15, step=1)\n",
    "rfe.fit(X_train_scaled, y_train)\n",
    "\n",
    "# Transform the data\n",
    "X_train_rfe = rfe.transform(X_train_scaled)\n",
    "X_test_rfe = rfe.transform(X_test_scaled)\n",
    "\n",
    "# Fit Lasso with the best alpha on the reduced features\n",
    "lasso_rfe_best = Lasso(alpha=best_alpha, random_state=42)\n",
    "lasso_rfe_best.fit(X_train_rfe, y_train)\n",
    "\n",
    "# Predict and evaluate Lasso with RFE and best alpha\n",
    "y_pred_rfe_best = lasso_rfe_best.predict(X_test_rfe)\n",
    "print(f\"Lasso with RFE and best alpha MSE: {mean_squared_error(y_test, y_pred_rfe_best)}\")\n",
    "\n",
    "# Get selected feature names\n",
    "selected_features_xyz = X.columns[rfe.support_]\n",
    "print(f\"Selected features: {selected_features_xyz}\")\n"
   ]
  },
  {
   "cell_type": "code",
   "execution_count": null,
   "id": "ee39d211-5f6b-49d1-ad1f-05cde3628f77",
   "metadata": {},
   "outputs": [],
   "source": [
    "X1 = train.copy()   # replace by train after removing null values\n",
    "X1 = X1.drop(columns=['xyz_knowledge','xyz_concern','doctor_recc_xyz', 'opinion_xyz_vacc_effective', 'opinion_xyz_risk', 'opinion_xyz_sick_from_vacc'])\n",
    "\n",
    "y = test['seasonal_vaccine'].copy()    # replace with the labels (test)"
   ]
  },
  {
   "cell_type": "code",
   "execution_count": null,
   "id": "48ba6d90-9037-408b-a735-3c8a348b1fbf",
   "metadata": {},
   "outputs": [],
   "source": [
    "X_train, X_test, y_train, y_test = train_test_split(X1, y, test_size=0.3, random_state=42)\n",
    "\n",
    "# Standardize the data\n",
    "scaler = StandardScaler()\n",
    "X_train_scaled = scaler.fit_transform(X_train)\n",
    "X_test_scaled = scaler.transform(X_test)\n",
    "\n",
    "# Define a parameter grid for alpha\n",
    "param_grid = {'alpha': np.logspace(-4, 1, 50)}\n",
    "\n",
    "# Initialize Lasso\n",
    "lasso = Lasso(random_state=42)\n",
    "\n",
    "# Initialize GridSearchCV\n",
    "grid_search = GridSearchCV(lasso, param_grid, cv=5, scoring='neg_mean_squared_error', n_jobs=-1)\n",
    "\n",
    "# Fit GridSearchCV to find the best alpha\n",
    "grid_search.fit(X_train_scaled, y_train)\n",
    "\n",
    "# Best alpha found\n",
    "best_alpha = grid_search.best_params_['alpha']\n",
    "print(f\"Best alpha found: {best_alpha}\")\n",
    "\n",
    "# Fit Lasso with the best alpha on the full dataset\n",
    "lasso_best = Lasso(alpha=best_alpha, random_state=42)\n",
    "lasso_best.fit(X_train_scaled, y_train)\n",
    "\n",
    "# Predict and evaluate Lasso with best alpha\n",
    "y_pred_best = lasso_best.predict(X_test_scaled)\n",
    "print(f\"Lasso Regression with best alpha MSE: {mean_squared_error(y_test, y_pred_best)}\")\n",
    "\n",
    "# Initialize RFE with Lasso using the best alpha\n",
    "rfe = RFE(estimator=lasso_best, n_features_to_select=15, step=1)\n",
    "rfe.fit(X_train_scaled, y_train)\n",
    "\n",
    "# Transform the data\n",
    "X_train_rfe = rfe.transform(X_train_scaled)\n",
    "X_test_rfe = rfe.transform(X_test_scaled)\n",
    "\n",
    "# Fit Lasso with the best alpha on the reduced features\n",
    "lasso_rfe_best = Lasso(alpha=best_alpha, random_state=42)\n",
    "lasso_rfe_best.fit(X_train_rfe, y_train)\n",
    "\n",
    "# Predict and evaluate Lasso with RFE and best alpha\n",
    "y_pred_rfe_best = lasso_rfe_best.predict(X_test_rfe)\n",
    "print(f\"Lasso with RFE and best alpha MSE: {mean_squared_error(y_test, y_pred_rfe_best)}\")\n",
    "\n",
    "# Get selected feature names\n",
    "selected_features_seas = X1.columns[rfe.support_]\n",
    "print(f\"Selected features: {selected_features_seas}\")"
   ]
  },
  {
   "cell_type": "code",
   "execution_count": null,
   "id": "6bf3f968-0dd4-4fb6-8f23-e7b4c39de01f",
   "metadata": {},
   "outputs": [],
   "source": [
    "X = X.loc[:, selected_features_xyz]\n",
    "X1 = X1.loc[:, selected_features_seas]\n",
    "X_test = pd.read_csv('test_set_features.csv')"
   ]
  },
  {
   "cell_type": "code",
   "execution_count": null,
   "id": "f72c19c9-cddc-47ac-8e93-8bcb083d5f68",
   "metadata": {},
   "outputs": [],
   "source": [
    "from sklearn.preprocessing import StandardScaler\n",
    "from sklearn.naive_bayes import MultinomialNB\n",
    "from sklearn.svm import SVC\n",
    "from sklearn.metrics import accuracy_score, log_loss\n",
    "\n",
    "# Load and prepare the dataset\n",
    "y = test['xyz_vaccine'].copy()\n",
    "# Split the data\n",
    "X_train = X\n",
    "y_train = y\n",
    "\n",
    "# Standardize the data (for SVM)\n",
    "# scaler = StandardScaler()\n",
    "# X_train_scaled = scaler.fit_transform(X_train)\n",
    "# X_test_scaled = scaler.transform(X_test)\n",
    "\n",
    "# Initialize models\n",
    "# Multinomial Naive Bayes expects positive feature values\n",
    "# To make the data compatible, we'll use MinMax scaling here instead of standard scaling\n",
    "from sklearn.preprocessing import MinMaxScaler\n",
    "scaler_minmax = MinMaxScaler()\n",
    "X_train_mm = scaler_minmax.fit_transform(X_train)\n",
    "X_test_mm = scaler_minmax.transform(X_test)\n",
    "\n",
    "nb = MultinomialNB()\n",
    "# svc = SVC(probability=True, random_state=42)  # SVM with probability estimates\n",
    "\n",
    "# Fit models\n",
    "nb.fit(X_train_mm, y_train)\n",
    "# svc.fit(X_train_scaled, y_train)\n",
    "\n",
    "X_test_to_use = X_test_mm\n",
    "y_proba1 = nb.predict_proba(X_test_to_use)"
   ]
  },
  {
   "cell_type": "code",
   "execution_count": null,
   "id": "078081cb-138b-4684-af6f-379206760443",
   "metadata": {},
   "outputs": [],
   "source": [
    "from sklearn.preprocessing import StandardScaler\n",
    "from sklearn.naive_bayes import MultinomialNB\n",
    "from sklearn.svm import SVC\n",
    "from sklearn.metrics import accuracy_score, log_loss\n",
    "\n",
    "# Load and prepare the dataset\n",
    "y = test['seasonal_vaccine'].copy()\n",
    "# Split the data\n",
    "X_train = X1\n",
    "y_train = y\n",
    "\n",
    "# Standardize the data (for SVM)\n",
    "# scaler = StandardScaler()\n",
    "# X_train_scaled = scaler.fit_transform(X_train)\n",
    "# X_test_scaled = scaler.transform(X_test)\n",
    "\n",
    "# Initialize models\n",
    "# Multinomial Naive Bayes expects positive feature values\n",
    "# To make the data compatible, we'll use MinMax scaling here instead of standard scaling\n",
    "from sklearn.preprocessing import MinMaxScaler\n",
    "scaler_minmax = MinMaxScaler()\n",
    "X_train_mm = scaler_minmax.fit_transform(X_train)\n",
    "X_test_mm = scaler_minmax.transform(X_test)\n",
    "\n",
    "nb = MultinomialNB()\n",
    "# svc = SVC(probability=True, random_state=42)  # SVM with probability estimates\n",
    "\n",
    "# Fit models\n",
    "nb.fit(X_train_mm, y_train)\n",
    "# svc.fit(X_train_scaled, y_train)\n",
    "\n",
    "X_test_to_use = X_test_mm\n",
    "y_proba2 = nb.predict_proba(X_test_to_use)"
   ]
  },
  {
   "cell_type": "code",
   "execution_count": null,
   "id": "33ff7a35-016d-420d-89bf-e9d4819cf213",
   "metadata": {},
   "outputs": [],
   "source": [
    "ids = X_test['respondent_id']\n",
    "\n",
    "# Create a DataFrame with `id` and predicted values\n",
    "results_df = pd.DataFrame({\n",
    "    'id': ids,\n",
    "    'xyz_vaccine': y_proba1,\n",
    "    'seasonal_vaccine': y_proba2\n",
    "})\n",
    "\n",
    "# Write to CSV\n",
    "results_df.to_csv('predictions.csv', index=False)\n",
    "\n",
    "print(results_df)"
   ]
  },
  {
   "cell_type": "code",
   "execution_count": null,
   "id": "e9882bec-0c7a-4dac-937f-a29b40edb983",
   "metadata": {},
   "outputs": [],
   "source": []
  }
 ],
 "metadata": {
  "kernelspec": {
   "display_name": "Python 3 (ipykernel)",
   "language": "python",
   "name": "python3"
  },
  "language_info": {
   "codemirror_mode": {
    "name": "ipython",
    "version": 3
   },
   "file_extension": ".py",
   "mimetype": "text/x-python",
   "name": "python",
   "nbconvert_exporter": "python",
   "pygments_lexer": "ipython3",
   "version": "3.12.0"
  }
 },
 "nbformat": 4,
 "nbformat_minor": 5
}
